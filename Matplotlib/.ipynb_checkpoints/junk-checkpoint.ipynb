{
 "cells": [
  {
   "cell_type": "markdown",
   "metadata": {},
   "source": [
    "# Matplotlib\n",
    "\n",
    "## Background\n",
    "\n",
    "Using Python Matplotlib and apply it to real-world situations.\n",
    "\n",
    "\n",
    "## Pymaceuticals Inc\n",
    "\n",
    "![Laboratory](Images/Laboratory.jpg)\n",
    "\n",
    "Using complete data from the most recent study on screening for potential treatments to squamous cell carcinoma (SCC), a commonly occurring form of skin cancer from a San Diego, CA based Pymaceuticals that specializes in drug-based, anti-cancer pharmaceuticals.\n",
    "\n",
    "250 mice were treated through a variety of drug regimes over the course of 45 days. Their physiological responses were then monitored over the course of that time. Objective is to analyze the data to show how four treatments (Capomulin, Infubinol, Ketapril, and Placebo) compare.\n",
    "\n",
    "Perfrom the following:\n",
    "\n",
    "* Create a scatter plot that shows how the tumor volume changes over time for each treatment.\n",
    "* Create a scatter plot that shows how the number of [metastatic](https://en.wikipedia.org/wiki/Metastasis) (cancer spreading) sites changes over time for each treatment.\n",
    "* Create a scatter plot that shows the number of mice still alive through the course of treatment (Survival Rate)\n",
    "* Create a bar graph that compares the total % tumor volume change for each drug across the full 45 days.\n",
    "\n",
    "As final considerations:\n",
    "\n",
    "* Use the Pandas Library and the Jupyter Notebook.\n",
    "* Use Matplotlib Library.\n",
    "* Use of proper labeling of plots, like: Plot Titles, Axes Labels, Legend Labels, X and Y Axis Limits, etc.\n",
    "\n",
    "\n",
    "## Hints and Considerations\n",
    "\n",
    "* Be warned: These are very challenging tasks. Be patient with yourself as you trudge through these problems. They will take time and there is no shame in fumbling along the way. Data visualization is equal parts exploration, equal parts resolution.\n",
    "\n",
    "* You do not have to follow them step-for-step. Do not get bogged down in trying to interpret and accomplish each step.\n",
    "\n",
    "* Between these two exercises, the Pymaceuticals one is significantly more challenging. So choose that one only if you feel somewhat comfortable with the material covered so far. The Pymaceuticals example _will_ require you to research a good bit on your own for hacked solutions to problems you'll experience along the way. If you end up choosing this exercise, feel encouraged to constantly refer to Stack Overflow and the Pandas Documentation. These are needed tools in every data analyst's arsenal.\n",
    "\n",
    "* Don't get bogged down in small details. Always focus on the big picture. If you can't figure out how to get a label to show up correctly, come back to it. Focus on getting the core skeleton of your notebook complete. You can always re-visit old problems.\n",
    "\n",
    "* Remember: There are many ways to skin a cat, and similarly there are many ways to approach a data problem. The key throughout, however, is to break up your task into micro tasks. Try answering questions like: \"How does my Data Frame need to be structured for me to have the right X and Y axis?\" \"How do I build a basic scatter plot?\" \"How do I add a label to that scatter plot?\" \"Where would the labels for that scatter plot come from?\". Again! Don't let the magnitude of a programming task scare you off. Ultimately, every programming problem boils down to a handful of smaller, bite-sized tasks.\n",
    "\n",
    "\n",
    "## Copyright\n",
    "\n",
    "Data Boot Camp © 2018. All Rights Reserved."
   ]
  },
  {
   "cell_type": "code",
   "execution_count": null,
   "metadata": {},
   "outputs": [],
   "source": []
  }
 ],
 "metadata": {
  "anaconda-cloud": {},
  "kernelspec": {
   "display_name": "Python 3",
   "language": "python",
   "name": "python3"
  },
  "language_info": {
   "codemirror_mode": {
    "name": "ipython",
    "version": 3
   },
   "file_extension": ".py",
   "mimetype": "text/x-python",
   "name": "python",
   "nbconvert_exporter": "python",
   "pygments_lexer": "ipython3",
   "version": "3.7.1"
  }
 },
 "nbformat": 4,
 "nbformat_minor": 1
}
